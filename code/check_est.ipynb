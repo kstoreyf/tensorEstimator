{
 "cells": [
  {
   "cell_type": "code",
   "execution_count": 1,
   "metadata": {},
   "outputs": [],
   "source": [
    "import numpy as np"
   ]
  },
  {
   "cell_type": "code",
   "execution_count": 2,
   "metadata": {},
   "outputs": [],
   "source": [
    "rmin = 1\n",
    "rmax = 10\n",
    "nd = 10\n",
    "nr = 50\n",
    "\n",
    "dd_rs = np.random.random_sample(nd*nd/2.)*(rmax-rmin) + rmin\n",
    "dr_rs = np.random.random_sample(nd*nr/2.)*(rmax-rmin) + rmin\n",
    "rr_rs = np.random.random_sample(nr*nr/2.)*(rmax-rmin) + rmin"
   ]
  },
  {
   "cell_type": "code",
   "execution_count": 5,
   "metadata": {},
   "outputs": [],
   "source": [
    "def tophat(r, bins):\n",
    "    K = len(bins)-1\n",
    "    u = np.zeros(K)\n",
    "    ins = -1\n",
    "    for bb in range(K):\n",
    "        if r>=bins[bb] and r<bins[bb+1]:\n",
    "            ins = bb\n",
    "            break\n",
    "    if ins>=0 and ins<K:\n",
    "        u[ins] = 1\n",
    "    return u"
   ]
  },
  {
   "cell_type": "code",
   "execution_count": 14,
   "metadata": {},
   "outputs": [],
   "source": [
    "def outer(u):\n",
    "    K = len(u)\n",
    "    out = np.zeros((K,K))\n",
    "    for i in range(K):\n",
    "        for j in range(K):\n",
    "            out[i][j] = u[i]*u[j]\n",
    "    return out"
   ]
  },
  {
   "cell_type": "code",
   "execution_count": 15,
   "metadata": {},
   "outputs": [
    {
     "name": "stdout",
     "output_type": "stream",
     "text": [
      "[1. 2. 7.]\n",
      "[ 2.  7. 11.]\n",
      "[ 5. 11. 34.]\n",
      "[[ 5.  0.  0.]\n",
      " [ 0. 11.  0.]\n",
      " [ 0.  0. 34.]]\n",
      "[[ 5.  0.  0.]\n",
      " [ 0. 11.  0.]\n",
      " [ 0.  0. 34.]]\n"
     ]
    }
   ],
   "source": [
    "K = 3\n",
    "bins = np.logspace(np.log10(rmin), np.log10(rmax), K+1)\n",
    "\n",
    "udd = np.zeros(K)\n",
    "for r in dd_rs:\n",
    "    udd += tophat(r, bins)\n",
    "\n",
    "udr = np.zeros(K)\n",
    "for r in dr_rs:\n",
    "    udr += tophat(r, bins)\n",
    "\n",
    "urr = np.zeros(K)\n",
    "uqq = np.zeros((K,K))\n",
    "uoo = np.zeros((K,K))\n",
    "\n",
    "for r in rr_rs:\n",
    "    u = tophat(r, bins)\n",
    "    urr += u\n",
    "    uqq += np.einsum('i,j', u, u)\n",
    "    uoo += outer(u)\n",
    "\n",
    "    \n",
    "print udd\n",
    "print udr\n",
    "print urr\n",
    "print uqq\n",
    "print uoo"
   ]
  },
  {
   "cell_type": "code",
   "execution_count": null,
   "metadata": {},
   "outputs": [],
   "source": []
  }
 ],
 "metadata": {
  "kernelspec": {
   "display_name": "Python 2",
   "language": "python",
   "name": "python2"
  },
  "language_info": {
   "codemirror_mode": {
    "name": "ipython",
    "version": 2
   },
   "file_extension": ".py",
   "mimetype": "text/x-python",
   "name": "python",
   "nbconvert_exporter": "python",
   "pygments_lexer": "ipython2",
   "version": "2.7.12"
  }
 },
 "nbformat": 4,
 "nbformat_minor": 2
}
