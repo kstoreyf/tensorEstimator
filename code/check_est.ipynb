{
 "cells": [
  {
   "cell_type": "code",
   "execution_count": 1,
   "metadata": {},
   "outputs": [],
   "source": [
    "import numpy as np"
   ]
  },
  {
   "cell_type": "code",
   "execution_count": 3,
   "metadata": {},
   "outputs": [],
   "source": [
    "rmin = 1\n",
    "rmax = 10\n",
    "nd = 10\n",
    "nr = 50\n",
    "\n",
    "dd_rs = np.random.random_sample(nd*nd/2)*(rmax-rmin) + rmin\n",
    "dr_rs = np.random.random_sample(nd*nr/2)*(rmax-rmin) + rmin\n",
    "rr_rs = np.random.random_sample(nr*nr/2)*(rmax-rmin) + rmin"
   ]
  },
  {
   "cell_type": "code",
   "execution_count": 4,
   "metadata": {},
   "outputs": [],
   "source": [
    "def tophat(r, bins, val):\n",
    "    K = len(bins)-1\n",
    "    u = np.zeros(K)\n",
    "    ins = -1\n",
    "    for bb in range(K):\n",
    "        if r>=bins[bb] and r<bins[bb+1]:\n",
    "            ins = bb\n",
    "            break\n",
    "    if ins>=0 and ins<K:\n",
    "        u[ins] = val\n",
    "    return u"
   ]
  },
  {
   "cell_type": "code",
   "execution_count": 5,
   "metadata": {},
   "outputs": [],
   "source": [
    "def outer(u):\n",
    "    K = len(u)\n",
    "    out = np.zeros((K,K))\n",
    "    for i in range(K):\n",
    "        for j in range(K):\n",
    "            out[i][j] = u[i]*u[j]\n",
    "    return out"
   ]
  },
  {
   "cell_type": "code",
   "execution_count": 17,
   "metadata": {},
   "outputs": [
    {
     "name": "stdout",
     "output_type": "stream",
     "text": [
      "[ 4. 16. 30.]\n",
      "[ 27.  71. 152.]\n",
      "[161. 344. 745.]\n",
      "[[161.   0.   0.]\n",
      " [  0. 344.   0.]\n",
      " [  0.   0. 745.]]\n",
      "[[-1.73291925 -1.96511628 -2.0738255 ]]\n",
      "[-1.73291925 -1.96511628 -2.0738255 ]\n"
     ]
    }
   ],
   "source": [
    "K = 3\n",
    "bins = np.logspace(np.log10(rmin), np.log10(rmax), K+1)\n",
    "\n",
    "val = 1\n",
    "udd = np.zeros(K)\n",
    "for r in dd_rs:\n",
    "    udd += tophat(r, bins, val)\n",
    "\n",
    "udr = np.zeros(K)\n",
    "for r in dr_rs:\n",
    "    udr += tophat(r, bins, val)\n",
    "\n",
    "urr = np.zeros(K)\n",
    "uqq = np.zeros((K,K))\n",
    "uoo = np.zeros((K,K))\n",
    "\n",
    "for r in rr_rs:\n",
    "    u = tophat(r, bins, val)\n",
    "    urr += u\n",
    "    uqq += np.einsum('i,j', u, u)\n",
    "    #uoo += outer(u)\n",
    "    \n",
    "dd = udd/(nd*nd)\n",
    "dr = 2*udr/(nd*nr)\n",
    "rr = urr/(nr*nr)\n",
    "qq = uqq/(nr*nr)\n",
    "qqinv = np.matrix(qq).I\n",
    "numerator = dd - 2*dr + rr\n",
    "a = np.matmul(qqinv, numerator)\n",
    "\n",
    "x = 0.5*(bins[1:]+bins[:-1])\n",
    "bases = []\n",
    "for xx in x:\n",
    "    bases.append(tophat(xx, bins, val))\n",
    "xi = np.matmul(a, np.array(bases).T)\n",
    "xi = np.squeeze(np.asarray(xi))\n",
    "\n",
    "print udd\n",
    "print udr\n",
    "print urr\n",
    "print uqq\n",
    "print a\n",
    "print xi"
   ]
  },
  {
   "cell_type": "code",
   "execution_count": 18,
   "metadata": {},
   "outputs": [
    {
     "name": "stdout",
     "output_type": "stream",
     "text": [
      "[0.4 1.6 3. ]\n",
      "[ 2.7  7.1 15.2]\n",
      "[16.1 34.4 74.5]\n",
      "[[1.61 0.   0.  ]\n",
      " [0.   3.44 0.  ]\n",
      " [0.   0.   7.45]]\n",
      "[[-17.32919255 -19.65116279 -20.73825503]]\n",
      "[-1.73291925 -1.96511628 -2.0738255 ]\n"
     ]
    }
   ],
   "source": [
    "K = 3\n",
    "bins = np.logspace(np.log10(rmin), np.log10(rmax), K+1)\n",
    "\n",
    "val = 0.1\n",
    "udd = np.zeros(K)\n",
    "for r in dd_rs:\n",
    "    udd += tophat(r, bins, val)\n",
    "\n",
    "udr = np.zeros(K)\n",
    "for r in dr_rs:\n",
    "    udr += tophat(r, bins, val)\n",
    "\n",
    "urr = np.zeros(K)\n",
    "uqq = np.zeros((K,K))\n",
    "uoo = np.zeros((K,K))\n",
    "\n",
    "for r in rr_rs:\n",
    "    u = tophat(r, bins, val)\n",
    "    urr += u\n",
    "    uqq += np.einsum('i,j', u, u)\n",
    "    #uoo += outer(u)\n",
    "\n",
    "dd = udd/(nd*nd)\n",
    "dr = 2*udr/(nd*nr)\n",
    "rr = urr/(nr*nr)\n",
    "qq = uqq/(nr*nr)\n",
    "qqinv = np.matrix(qq).I\n",
    "numerator = dd - 2*dr + rr\n",
    "a = np.matmul(qqinv, numerator)\n",
    "\n",
    "x = 0.5*(bins[1:]+bins[:-1])\n",
    "bases = []\n",
    "for xx in x:\n",
    "    bases.append(tophat(xx, bins, val))\n",
    "xi = np.matmul(a, np.array(bases).T)\n",
    "xi = np.squeeze(np.asarray(xi))\n",
    "\n",
    "print udd\n",
    "print udr\n",
    "print urr\n",
    "print uqq\n",
    "print a\n",
    "print xi"
   ]
  },
  {
   "cell_type": "code",
   "execution_count": null,
   "metadata": {},
   "outputs": [],
   "source": []
  }
 ],
 "metadata": {
  "kernelspec": {
   "display_name": "Python 2",
   "language": "python",
   "name": "python2"
  },
  "language_info": {
   "codemirror_mode": {
    "name": "ipython",
    "version": 2
   },
   "file_extension": ".py",
   "mimetype": "text/x-python",
   "name": "python",
   "nbconvert_exporter": "python",
   "pygments_lexer": "ipython2",
   "version": "2.7.12"
  }
 },
 "nbformat": 4,
 "nbformat_minor": 2
}
